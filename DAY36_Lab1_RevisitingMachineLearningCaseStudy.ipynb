{
 "cells": [
  {
   "cell_type": "markdown",
   "metadata": {},
   "source": [
    "## DAY 36_Lab | Revisiting Machine Learning Case Study\n",
    "In this lab, you will use learningSet.csv file which you already have cloned in today's activities.\n",
    "Instructions\n",
    "Complete the following steps on the categorical columns in the dataset:\n",
    "\n",
    "- Check for null values in all the columns\n",
    "- Exclude the following variables by looking at the definitions.\n",
    "- Create a new empty list called drop_list.\n",
    "    - We will append this list and then drop all the columns in this list later:\n",
    "\n",
    "*OSOURCE* - symbol definitions not provided, too many categories\n",
    "*ZIP CODE* - we are including state already\n",
    "\n",
    "Identify columns that over 85% missing values\n",
    "\n",
    "- Remove those columns from the dataframe\n",
    "\n",
    "- Reduce the number of categories in the column GENDER. The column should only have either \"M\" for males, \"F\" for females, and \"other\" for all the rest\n",
    "\n",
    "Note that there are a few null values in the column. We will first replace those null values using the code below:"
   ]
  },
  {
   "cell_type": "code",
   "execution_count": 2,
   "metadata": {},
   "outputs": [],
   "source": [
    "import pandas as pd\n",
    "import numpy as np\n",
    "pd.set_option('display.max_columns', None)\n",
    "import warnings\n",
    "warnings.filterwarnings('ignore')\n",
    "import matplotlib.pyplot as plt\n",
    "import seaborn as sns "
   ]
  },
  {
   "cell_type": "code",
   "execution_count": 35,
   "metadata": {},
   "outputs": [
    {
     "data": {
      "text/plain": [
       "(95412, 481)"
      ]
     },
     "execution_count": 35,
     "metadata": {},
     "output_type": "execute_result"
    }
   ],
   "source": [
    "data = pd.read_csv('c:/Users/kyear/Documents/Personal/Education/Ironhack/36_ML/data_7.01_activities/files_for_activities/learningSet.csv')\n",
    "\n",
    "\n",
    "data.shape"
   ]
  },
  {
   "cell_type": "markdown",
   "metadata": {},
   "source": [
    "----\n",
    "#### PART 1) "
   ]
  },
  {
   "cell_type": "code",
   "execution_count": 36,
   "metadata": {},
   "outputs": [
    {
     "data": {
      "text/plain": [
       "ODATEDW       0\n",
       "OSOURCE       0\n",
       "TCODE         0\n",
       "STATE         0\n",
       "ZIP           0\n",
       "           ... \n",
       "MDMAUD_R      0\n",
       "MDMAUD_F      0\n",
       "MDMAUD_A      0\n",
       "CLUSTER2    132\n",
       "GEOCODE2    132\n",
       "Length: 481, dtype: int64"
      ]
     },
     "execution_count": 36,
     "metadata": {},
     "output_type": "execute_result"
    }
   ],
   "source": [
    "data.isnull().sum()"
   ]
  },
  {
   "cell_type": "code",
   "execution_count": 37,
   "metadata": {},
   "outputs": [
    {
     "data": {
      "text/plain": [
       "ODATEDW       0\n",
       "OSOURCE       0\n",
       "TCODE         0\n",
       "STATE         0\n",
       "ZIP           0\n",
       "           ... \n",
       "MDMAUD_R      0\n",
       "MDMAUD_F      0\n",
       "MDMAUD_A      0\n",
       "CLUSTER2    132\n",
       "GEOCODE2    132\n",
       "Length: 481, dtype: int64"
      ]
     },
     "execution_count": 37,
     "metadata": {},
     "output_type": "execute_result"
    }
   ],
   "source": [
    "data.isna().sum()"
   ]
  },
  {
   "cell_type": "code",
   "execution_count": 38,
   "metadata": {},
   "outputs": [],
   "source": [
    "def filter_nulls(df, perc = .15):\n",
    "  ''' This function gets a dataframe, inspects the percentage of null values in each column \n",
    "      and returns a list of those columns which has a percentage above the threshold value \n",
    "      provided by the user. A default percentage value of 25% is assumed unless another value\n",
    "      is provided in the function arguments.\n",
    "      Inputs: \n",
    "        df: a dataframe to inspec\n",
    "        [perc]: percentage of null values in each column\n",
    "      Outputs:\n",
    "        list of columns which have a percentage of null values above the specified thershold.\n",
    "  '''\n",
    "  nulls_percent_df = pd.DataFrame(df.isna().sum()/len(df)).reset_index()  \n",
    "  nulls_percent_df.columns = ['column_name', 'nulls_percentage']\n",
    "  columns_above_threshold = nulls_percent_df[nulls_percent_df['nulls_percentage']>perc]\n",
    "  drop_columns_list = list(columns_above_threshold['column_name'])\n",
    "  return drop_columns_list"
   ]
  },
  {
   "cell_type": "code",
   "execution_count": 29,
   "metadata": {},
   "outputs": [
    {
     "data": {
      "text/plain": [
       "['AGE',\n",
       " 'NUMCHLD',\n",
       " 'INCOME',\n",
       " 'WEALTH1',\n",
       " 'MBCRAFT',\n",
       " 'MBGARDEN',\n",
       " 'MBBOOKS',\n",
       " 'MBCOLECT',\n",
       " 'MAGFAML',\n",
       " 'MAGFEM',\n",
       " 'MAGMALE',\n",
       " 'PUBGARDN',\n",
       " 'PUBCULIN',\n",
       " 'PUBHLTH',\n",
       " 'PUBDOITY',\n",
       " 'PUBNEWFN',\n",
       " 'PUBPHOTO',\n",
       " 'PUBOPP',\n",
       " 'WEALTH2',\n",
       " 'ADATE_5',\n",
       " 'ADATE_10',\n",
       " 'ADATE_13',\n",
       " 'ADATE_14',\n",
       " 'ADATE_15',\n",
       " 'ADATE_16',\n",
       " 'ADATE_17',\n",
       " 'ADATE_18',\n",
       " 'ADATE_19',\n",
       " 'ADATE_20',\n",
       " 'ADATE_21',\n",
       " 'ADATE_22',\n",
       " 'ADATE_23',\n",
       " 'ADATE_24',\n",
       " 'RDATE_3',\n",
       " 'RDATE_4',\n",
       " 'RDATE_5',\n",
       " 'RDATE_6',\n",
       " 'RDATE_7',\n",
       " 'RDATE_8',\n",
       " 'RDATE_9',\n",
       " 'RDATE_10',\n",
       " 'RDATE_11',\n",
       " 'RDATE_12',\n",
       " 'RDATE_13',\n",
       " 'RDATE_14',\n",
       " 'RDATE_15',\n",
       " 'RDATE_16',\n",
       " 'RDATE_17',\n",
       " 'RDATE_18',\n",
       " 'RDATE_19',\n",
       " 'RDATE_20',\n",
       " 'RDATE_21',\n",
       " 'RDATE_22',\n",
       " 'RDATE_23',\n",
       " 'RDATE_24',\n",
       " 'RAMNT_3',\n",
       " 'RAMNT_4',\n",
       " 'RAMNT_5',\n",
       " 'RAMNT_6',\n",
       " 'RAMNT_7',\n",
       " 'RAMNT_8',\n",
       " 'RAMNT_9',\n",
       " 'RAMNT_10',\n",
       " 'RAMNT_11',\n",
       " 'RAMNT_12',\n",
       " 'RAMNT_13',\n",
       " 'RAMNT_14',\n",
       " 'RAMNT_15',\n",
       " 'RAMNT_16',\n",
       " 'RAMNT_17',\n",
       " 'RAMNT_18',\n",
       " 'RAMNT_19',\n",
       " 'RAMNT_20',\n",
       " 'RAMNT_21',\n",
       " 'RAMNT_22',\n",
       " 'RAMNT_23',\n",
       " 'RAMNT_24']"
      ]
     },
     "execution_count": 29,
     "metadata": {},
     "output_type": "execute_result"
    }
   ],
   "source": [
    "drop_columns_list = filter_nulls(data)\n",
    "drop_columns_list"
   ]
  },
  {
   "cell_type": "code",
   "execution_count": 39,
   "metadata": {},
   "outputs": [
    {
     "data": {
      "text/plain": [
       "['AGE',\n",
       " 'NUMCHLD',\n",
       " 'INCOME',\n",
       " 'WEALTH1',\n",
       " 'MBCRAFT',\n",
       " 'MBGARDEN',\n",
       " 'MBBOOKS',\n",
       " 'MBCOLECT',\n",
       " 'MAGFAML',\n",
       " 'MAGFEM',\n",
       " 'MAGMALE',\n",
       " 'PUBGARDN',\n",
       " 'PUBCULIN',\n",
       " 'PUBHLTH',\n",
       " 'PUBDOITY',\n",
       " 'PUBNEWFN',\n",
       " 'PUBPHOTO',\n",
       " 'PUBOPP',\n",
       " 'WEALTH2',\n",
       " 'ADATE_5',\n",
       " 'ADATE_10',\n",
       " 'ADATE_13',\n",
       " 'ADATE_14',\n",
       " 'ADATE_15',\n",
       " 'ADATE_16',\n",
       " 'ADATE_17',\n",
       " 'ADATE_18',\n",
       " 'ADATE_19',\n",
       " 'ADATE_20',\n",
       " 'ADATE_21',\n",
       " 'ADATE_22',\n",
       " 'ADATE_23',\n",
       " 'ADATE_24',\n",
       " 'RDATE_3',\n",
       " 'RDATE_4',\n",
       " 'RDATE_5',\n",
       " 'RDATE_6',\n",
       " 'RDATE_7',\n",
       " 'RDATE_8',\n",
       " 'RDATE_9',\n",
       " 'RDATE_10',\n",
       " 'RDATE_11',\n",
       " 'RDATE_12',\n",
       " 'RDATE_13',\n",
       " 'RDATE_14',\n",
       " 'RDATE_15',\n",
       " 'RDATE_16',\n",
       " 'RDATE_17',\n",
       " 'RDATE_18',\n",
       " 'RDATE_19',\n",
       " 'RDATE_20',\n",
       " 'RDATE_21',\n",
       " 'RDATE_22',\n",
       " 'RDATE_23',\n",
       " 'RDATE_24',\n",
       " 'RAMNT_3',\n",
       " 'RAMNT_4',\n",
       " 'RAMNT_5',\n",
       " 'RAMNT_6',\n",
       " 'RAMNT_7',\n",
       " 'RAMNT_8',\n",
       " 'RAMNT_9',\n",
       " 'RAMNT_10',\n",
       " 'RAMNT_11',\n",
       " 'RAMNT_12',\n",
       " 'RAMNT_13',\n",
       " 'RAMNT_14',\n",
       " 'RAMNT_15',\n",
       " 'RAMNT_16',\n",
       " 'RAMNT_17',\n",
       " 'RAMNT_18',\n",
       " 'RAMNT_19',\n",
       " 'RAMNT_20',\n",
       " 'RAMNT_21',\n",
       " 'RAMNT_22',\n",
       " 'RAMNT_23',\n",
       " 'RAMNT_24',\n",
       " 'ZIP',\n",
       " 'OSOURCE']"
      ]
     },
     "execution_count": 39,
     "metadata": {},
     "output_type": "execute_result"
    }
   ],
   "source": [
    "drop_columns_list+['ZIP', 'OSOURCE']"
   ]
  },
  {
   "cell_type": "code",
   "execution_count": 40,
   "metadata": {},
   "outputs": [
    {
     "data": {
      "text/plain": [
       "(95412, 404)"
      ]
     },
     "execution_count": 40,
     "metadata": {},
     "output_type": "execute_result"
    }
   ],
   "source": [
    "data = data.drop(columns=drop_columns_list)\n",
    "data.shape"
   ]
  },
  {
   "cell_type": "markdown",
   "metadata": {},
   "source": [
    "-----\n",
    "\n",
    "### PART 2)"
   ]
  },
  {
   "cell_type": "code",
   "execution_count": 48,
   "metadata": {},
   "outputs": [],
   "source": [
    "categorical = data.select_dtypes(np.object)"
   ]
  },
  {
   "cell_type": "code",
   "execution_count": 42,
   "metadata": {},
   "outputs": [
    {
     "data": {
      "text/plain": [
       "OSOURCE       0\n",
       "STATE         0\n",
       "ZIP           0\n",
       "MAILCODE      0\n",
       "PVASTATE      0\n",
       "           ... \n",
       "RFA_2A        0\n",
       "MDMAUD_R      0\n",
       "MDMAUD_F      0\n",
       "MDMAUD_A      0\n",
       "GEOCODE2    132\n",
       "Length: 74, dtype: int64"
      ]
     },
     "execution_count": 42,
     "metadata": {},
     "output_type": "execute_result"
    }
   ],
   "source": [
    "categorical.isna().sum()"
   ]
  },
  {
   "cell_type": "code",
   "execution_count": 43,
   "metadata": {},
   "outputs": [
    {
     "data": {
      "text/plain": [
       "F    51277\n",
       "M    39094\n",
       "      2957\n",
       "U     1715\n",
       "J      365\n",
       "A        2\n",
       "C        2\n",
       "Name: GENDER, dtype: int64"
      ]
     },
     "execution_count": 43,
     "metadata": {},
     "output_type": "execute_result"
    }
   ],
   "source": [
    "categorical['GENDER'].value_counts()"
   ]
  },
  {
   "cell_type": "code",
   "execution_count": 44,
   "metadata": {},
   "outputs": [
    {
     "name": "stdout",
     "output_type": "stream",
     "text": [
      "F    51277\n",
      "M    39094\n",
      "      2957\n",
      "U     1715\n",
      "J      365\n",
      "A        2\n",
      "C        2\n",
      "Name: GENDER, dtype: int64\n"
     ]
    }
   ],
   "source": [
    "print(categorical['GENDER'].value_counts())\n",
    "categorical['GENDER'] = categorical['GENDER'].fillna('F')"
   ]
  },
  {
   "cell_type": "code",
   "execution_count": 46,
   "metadata": {},
   "outputs": [],
   "source": [
    "def clean_gender(df):\n",
    "    df2 = df.copy()\n",
    "    df2['GENDER'] = np.where(df2['GENDER'].isin(['F','M']),df2['GENDER'],\"other\")\n",
    "\n",
    "    return df2"
   ]
  },
  {
   "cell_type": "code",
   "execution_count": 47,
   "metadata": {},
   "outputs": [
    {
     "data": {
      "text/plain": [
       "F        51277\n",
       "M        39094\n",
       "other     5041\n",
       "Name: GENDER, dtype: int64"
      ]
     },
     "execution_count": 47,
     "metadata": {},
     "output_type": "execute_result"
    }
   ],
   "source": [
    "categorical = clean_gender(categorical)\n",
    "categorical['GENDER'].value_counts()"
   ]
  }
 ],
 "metadata": {
  "kernelspec": {
   "display_name": "Python 3",
   "language": "python",
   "name": "python3"
  },
  "language_info": {
   "codemirror_mode": {
    "name": "ipython",
    "version": 3
   },
   "file_extension": ".py",
   "mimetype": "text/x-python",
   "name": "python",
   "nbconvert_exporter": "python",
   "pygments_lexer": "ipython3",
   "version": "3.8.5"
  }
 },
 "nbformat": 4,
 "nbformat_minor": 4
}
